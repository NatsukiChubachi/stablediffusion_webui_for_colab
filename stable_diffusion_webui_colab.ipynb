{
  "cells": [
    {
      "cell_type": "markdown",
      "metadata": {
        "id": "view-in-github",
        "colab_type": "text"
      },
      "source": [
        "<a href=\"https://colab.research.google.com/github/NatsukiChubachi/stablediffusion_webui_for_colab/blob/main/stable_diffusion_webui_colab.ipynb\" target=\"_parent\"><img src=\"https://colab.research.google.com/assets/colab-badge.svg\" alt=\"Open In Colab\"/></a>"
      ]
    },
    {
      "cell_type": "code",
      "source": [
        "#@title 割り当てられたGPU性能確認\n",
        "!nvidia-smi"
      ],
      "metadata": {
        "cellView": "form",
        "id": "HGyrhcWtF0fI"
      },
      "execution_count": null,
      "outputs": []
    },
    {
      "cell_type": "code",
      "source": [
        "#@title Googleドライブと連携\n",
        "from google.colab import drive\n",
        "drive.mount('./gdrive')"
      ],
      "metadata": {
        "id": "ztlt13SSaSpx",
        "cellView": "form"
      },
      "execution_count": null,
      "outputs": []
    },
    {
      "cell_type": "code",
      "source": [
        "#@title WebUIの取得 (https://github.com/AUTOMATIC1111/stable-diffusion-webui)\n",
        "!git clone https://github.com/AUTOMATIC1111/stable-diffusion-webui.git"
      ],
      "metadata": {
        "id": "JKaQOXW_UjWZ",
        "cellView": "form"
      },
      "execution_count": null,
      "outputs": []
    },
    {
      "cell_type": "code",
      "source": [
        "#@title (モデルデータ)trinartの取得(https://huggingface.co/naclbit/trinart_derrida_characters_v2_stable_diffusion)\n",
        "!git lfs install\n",
        "\n",
        "!wget https://huggingface.co/naclbit/trinart_derrida_characters_v2_stable_diffusion/resolve/main/derrida_final.ckpt\n",
        "!mv derrida_final.ckpt /content/stable-diffusion-webui/models/Stable-diffusion/\n",
        "\n",
        "!wget https://huggingface.co/naclbit/trinart_derrida_characters_v2_stable_diffusion/resolve/main/autoencoder_fix_kl-f8-trinart_characters.ckpt\n",
        "!mv autoencoder_fix_kl-f8-trinart_characters.ckpt /content/stable-diffusion-webui/models/Stable-diffusion/\n"
      ],
      "metadata": {
        "cellView": "form",
        "id": "gFVuhxfa7oCN"
      },
      "execution_count": null,
      "outputs": []
    },
    {
      "cell_type": "code",
      "source": [
        "#@title (モデルデータ)OrangeMixの取得(https://huggingface.co/WarriorMama777/OrangeMixs)\n",
        "!git lfs install\n",
        "\n",
        "#!wget https://huggingface.co/WarriorMama777/OrangeMixs/resolve/main/Models/AbyssOrangeMix/AbyssOrangeMix_base.ckpt\n",
        "#!mv AbyssOrangeMix_base.ckpt /content/stable-diffusion-webui/models/Stable-diffusion/AbyssOrangeMix_base.ckpt\n",
        "\n",
        "!wget https://huggingface.co/WarriorMama777/OrangeMixs/resolve/main/Models/EerieOrangeMix/EerieOrangeMix2_half.safetensors\n",
        "!mv EerieOrangeMix2_half.safetensors /content/stable-diffusion-webui/models/Stable-diffusion/EerieOrangeMix2_half.safetensors\n",
        "\n",
        "!wget https://huggingface.co/WarriorMama777/OrangeMixs/resolve/main/VAEs/orangemix.vae.pt\n",
        "!mv orangemix.vae.pt /content/stable-diffusion-webui/models/VAE/orangemix.vae.pt\n"
      ],
      "metadata": {
        "id": "_-supKnqg0L9",
        "cellView": "form"
      },
      "execution_count": null,
      "outputs": []
    },
    {
      "cell_type": "code",
      "source": [
        "#@title (モデルデータ)Anythingv4の取得(https://huggingface.co/andite/anything-v4.0)\n",
        "!git lfs install\n",
        "\n",
        "!wget https://huggingface.co/andite/anything-v4.0/resolve/main/anything-v4.0-pruned-fp16.safetensors\n",
        "!mv anything-v4.0-pruned-fp16.safetensors /content/stable-diffusion-webui/models/Stable-diffusion/\n",
        "\n",
        "!wget https://huggingface.co/andite/anything-v4.0/resolve/main/anything-v4.0.vae.pt\n",
        "!mv anything-v4.0.vae.pt /content/stable-diffusion-webui/models/VAE/\n"
      ],
      "metadata": {
        "id": "Xu4uGLW1O-05",
        "cellView": "form"
      },
      "execution_count": null,
      "outputs": []
    },
    {
      "cell_type": "code",
      "source": [
        "#@title (モデルデータ)ACertainModelの取得(https://huggingface.co/JosephusCheung/ACertainModel)\n",
        "!git lfs install\n",
        "\n",
        "!wget https://huggingface.co/JosephusCheung/ACertainModel/resolve/main/ACertainModel-half.ckpt\n",
        "!mv ACertainModel-half.ckpt /content/stable-diffusion-webui/models/Stable-diffusion/ACertainModel-half.ckpt\n",
        "\n",
        "!wget https://huggingface.co/JosephusCheung/ACertainModel/resolve/main/vae/diffusion_pytorch_model.bin\n",
        "!mv diffusion_pytorch_model.bin /content/stable-diffusion-webui/models/VAE/ACertainModel-half.vae.pt\n"
      ],
      "metadata": {
        "cellView": "form",
        "id": "FSkmmJNZTJJU"
      },
      "execution_count": null,
      "outputs": []
    },
    {
      "cell_type": "code",
      "source": [
        "#@title fastapiのインストール\n",
        "#@markdown ※<br>fastapiインストール後にrequirements_versions.txtを開き、<br>fastapi==0.90.1を追記する。\n",
        "!pip install fastapi==0.90.1"
      ],
      "metadata": {
        "cellView": "form",
        "id": "N9LYcl0L8gc7"
      },
      "execution_count": null,
      "outputs": []
    },
    {
      "cell_type": "code",
      "source": [
        "#@title WebUIの起動\n",
        "\n",
        "#@markdown １．<br>\n",
        "#@markdown 表示されるURLにアクセスするとwebuiから画像生成できるようになる。<br>\n",
        "\n",
        "#@markdown ２．<br>\n",
        "#@markdown 「Settings->Paths for saving->Output directory for images」に<br>「/content/gdrive/MyDrive」と入れて<br>「Apply Settings」を実行する。<br>\n",
        "#@markdown Googleドライブに出力を保存するように設定する。<br>\n",
        "\n",
        "#@markdown ３．<br>\n",
        "#@markdown 「Settings->UserInterfaces->QuickSettingsList」で<br>\n",
        "#@markdown 「sd_model_checkpoint,sd_vae,CLIP_stop_at_last_layers」と入れて、<br>\n",
        "#@markdown 「Apply Settings」「Reload UI」を実行する。<br>\n",
        "#@markdown これでckptだけでなくvaeも任意に切り替えられるようになる。<br>\n",
        "\n",
        "#@markdown ※<br>\n",
        "#@markdown (GoogleColaboratoryだと切替時にコケてしまうことがある？)<br>\n",
        "#@markdown 止まったと思ったら再起動してしまうとよい。<br>\n",
        "\n",
        "%cd /content/stable-diffusion-webui\n",
        "!python launch.py --precision full --no-half --share --xformers --medvram --enable-insecure-extension-access"
      ],
      "metadata": {
        "id": "z5QyxdDDVMht",
        "cellView": "form"
      },
      "execution_count": null,
      "outputs": []
    }
  ],
  "metadata": {
    "accelerator": "GPU",
    "colab": {
      "private_outputs": true,
      "provenance": [],
      "include_colab_link": true
    },
    "gpuClass": "standard",
    "kernelspec": {
      "display_name": "Python 3",
      "name": "python3"
    },
    "language_info": {
      "name": "python"
    }
  },
  "nbformat": 4,
  "nbformat_minor": 0
}